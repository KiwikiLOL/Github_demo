{
 "cells": [
  {
   "cell_type": "code",
   "execution_count": 8,
   "metadata": {},
   "outputs": [],
   "source": [
    "def investment () :\n",
    "    invest=float(input('How much money will you put in?'))\n",
    "    rate=float(input('How much is your investment rate for a year?'))\n",
    "    earned=invest*(1+rate)\n",
    "    print('You will have earned',earned,'in a year, including your original payment.')"
   ]
  },
  {
   "cell_type": "code",
   "execution_count": 9,
   "metadata": {},
   "outputs": [
    {
     "name": "stdin",
     "output_type": "stream",
     "text": [
      "How much money will you put in? 100\n",
      "How much is your investment rate for a year? 0.05\n"
     ]
    },
    {
     "name": "stdout",
     "output_type": "stream",
     "text": [
      "You will have earned 105.0 in a year, including your original payment.\n"
     ]
    }
   ],
   "source": [
    "investment ()"
   ]
  },
  {
   "cell_type": "code",
   "execution_count": 7,
   "metadata": {},
   "outputs": [],
   "source": [
    "def investmentyears () :\n",
    "    invest=float(input('How much money will you put in?'))\n",
    "    rate=float(input('How much is your investment rate for a year?'))\n",
    "    earned=invest*(1+rate)*(1+rate)\n",
    "    print('You will have earned',earned,'in 2 years, including your original payment.')"
   ]
  },
  {
   "cell_type": "code",
   "execution_count": 8,
   "metadata": {},
   "outputs": [
    {
     "name": "stdin",
     "output_type": "stream",
     "text": [
      "How much money will you put in? 100\n",
      "How much is your investment rate for a year? 0.05\n"
     ]
    },
    {
     "name": "stdout",
     "output_type": "stream",
     "text": [
      "You will have earned 110.25 in 2 years, including your original payment.\n"
     ]
    }
   ],
   "source": [
    "investmentyears ()"
   ]
  },
  {
   "cell_type": "code",
   "execution_count": null,
   "metadata": {},
   "outputs": [],
   "source": []
  }
 ],
 "metadata": {
  "kernelspec": {
   "display_name": "Python 3",
   "language": "python",
   "name": "python3"
  },
  "language_info": {
   "codemirror_mode": {
    "name": "ipython",
    "version": 3
   },
   "file_extension": ".py",
   "mimetype": "text/x-python",
   "name": "python",
   "nbconvert_exporter": "python",
   "pygments_lexer": "ipython3",
   "version": "3.7.6"
  }
 },
 "nbformat": 4,
 "nbformat_minor": 4
}
