{
 "cells": [
  {
   "cell_type": "code",
   "execution_count": 13,
   "metadata": {},
   "outputs": [
    {
     "name": "stdout",
     "output_type": "stream",
     "text": [
      "Hello!\n"
     ]
    }
   ],
   "source": [
    "print('Hello!')"
   ]
  },
  {
   "cell_type": "code",
   "execution_count": 16,
   "metadata": {},
   "outputs": [
    {
     "name": "stdin",
     "output_type": "stream",
     "text": [
      "What is your name? Keira\n"
     ]
    }
   ],
   "source": [
    "name=input('What is your name?')"
   ]
  },
  {
   "cell_type": "code",
   "execution_count": 17,
   "metadata": {},
   "outputs": [
    {
     "name": "stdout",
     "output_type": "stream",
     "text": [
      "Nice to meet you Keira !\n"
     ]
    }
   ],
   "source": [
    "print('Nice to meet you',name,'!')"
   ]
  },
  {
   "cell_type": "code",
   "execution_count": 18,
   "metadata": {},
   "outputs": [
    {
     "name": "stdin",
     "output_type": "stream",
     "text": [
      "What is your favorite sport? squash\n"
     ]
    }
   ],
   "source": [
    "sport=input('What is your favorite sport?')"
   ]
  },
  {
   "cell_type": "code",
   "execution_count": 19,
   "metadata": {},
   "outputs": [
    {
     "name": "stdout",
     "output_type": "stream",
     "text": [
      "Oooh, I like squash too!\n"
     ]
    }
   ],
   "source": [
    "print('Oooh, I like',sport,'too!')"
   ]
  },
  {
   "cell_type": "code",
   "execution_count": 20,
   "metadata": {},
   "outputs": [
    {
     "name": "stdin",
     "output_type": "stream",
     "text": [
      "What is your favorite snack? chips\n"
     ]
    }
   ],
   "source": [
    "Snack=input('What is your favorite snack?')"
   ]
  },
  {
   "cell_type": "code",
   "execution_count": 12,
   "metadata": {},
   "outputs": [
    {
     "name": "stdout",
     "output_type": "stream",
     "text": [
      "I think chips are great too!\n"
     ]
    }
   ],
   "source": [
    "print('I think',Snack,'are great too!')"
   ]
  },
  {
   "cell_type": "code",
   "execution_count": 25,
   "metadata": {},
   "outputs": [
    {
     "name": "stdin",
     "output_type": "stream",
     "text": [
      "What is your favorite animal? dogs\n"
     ]
    }
   ],
   "source": [
    "animal=input('What is your favorite animal?')"
   ]
  },
  {
   "cell_type": "code",
   "execution_count": 23,
   "metadata": {},
   "outputs": [
    {
     "name": "stdout",
     "output_type": "stream",
     "text": [
      "Nice, I also think dogs are cool!\n"
     ]
    }
   ],
   "source": [
    "print('Nice, I also think',animal,'are cool!')"
   ]
  },
  {
   "cell_type": "code",
   "execution_count": 27,
   "metadata": {},
   "outputs": [
    {
     "name": "stdin",
     "output_type": "stream",
     "text": [
      "If you have a pet, can you tell me its name? Tucker\n"
     ]
    }
   ],
   "source": [
    "pet=input('If you have a pet, can you tell me its name?')"
   ]
  },
  {
   "cell_type": "code",
   "execution_count": 28,
   "metadata": {},
   "outputs": [
    {
     "name": "stdout",
     "output_type": "stream",
     "text": [
      "I think Tucker is a good name!!!\n"
     ]
    }
   ],
   "source": [
    "print('I think',pet,'is a good name!!!')"
   ]
  },
  {
   "cell_type": "code",
   "execution_count": 2,
   "metadata": {},
   "outputs": [
    {
     "name": "stdin",
     "output_type": "stream",
     "text": [
      "What is your favorite color? blue\n"
     ]
    }
   ],
   "source": [
    "color=input('What is your favorite color?')"
   ]
  },
  {
   "cell_type": "code",
   "execution_count": 3,
   "metadata": {},
   "outputs": [
    {
     "name": "stdout",
     "output_type": "stream",
     "text": [
      "blue is a pretty color!\n"
     ]
    }
   ],
   "source": [
    "print(color,'is a pretty color!')"
   ]
  },
  {
   "cell_type": "code",
   "execution_count": 4,
   "metadata": {},
   "outputs": [
    {
     "name": "stdin",
     "output_type": "stream",
     "text": [
      "What is your favorite ice cream flavor? vanilla\n"
     ]
    }
   ],
   "source": [
    "icecream=input('What is your favorite ice cream flavor?')"
   ]
  },
  {
   "cell_type": "code",
   "execution_count": 7,
   "metadata": {},
   "outputs": [
    {
     "name": "stdout",
     "output_type": "stream",
     "text": [
      "Cool, I like vanilla too!\n"
     ]
    }
   ],
   "source": [
    "print('Cool, I like',icecream,'too!')"
   ]
  },
  {
   "cell_type": "code",
   "execution_count": 14,
   "metadata": {},
   "outputs": [
    {
     "name": "stdin",
     "output_type": "stream",
     "text": [
      "Do you like fruits or vegetables better? fruits\n"
     ]
    }
   ],
   "source": [
    "fruitorveggie=input('Do you like fruits or vegetables better?')"
   ]
  },
  {
   "cell_type": "code",
   "execution_count": 13,
   "metadata": {},
   "outputs": [
    {
     "name": "stdout",
     "output_type": "stream",
     "text": [
      "I also like fruits , but I like the other the same!\n"
     ]
    }
   ],
   "source": [
    "print('I also like',fruitorveggie,', but I like the other the same!')"
   ]
  },
  {
   "cell_type": "code",
   "execution_count": 5,
   "metadata": {},
   "outputs": [
    {
     "name": "stdin",
     "output_type": "stream",
     "text": [
      "What is your favorite fruit? kiwi\n"
     ]
    }
   ],
   "source": [
    "fruit=input('What is your favorite fruit?')"
   ]
  },
  {
   "cell_type": "code",
   "execution_count": 7,
   "metadata": {},
   "outputs": [
    {
     "name": "stdout",
     "output_type": "stream",
     "text": [
      "Mmmm, kiwi is a good fruit!\n"
     ]
    }
   ],
   "source": [
    "print('Mmmm,',fruit,'is a good fruit!')"
   ]
  },
  {
   "cell_type": "code",
   "execution_count": 30,
   "metadata": {},
   "outputs": [
    {
     "name": "stdout",
     "output_type": "stream",
     "text": [
      "Well, I had a nice time talking to you! See you again later!!!!!\n"
     ]
    }
   ],
   "source": [
    "print('Well, I had a nice time talking to you! See you again later!!!!!')"
   ]
  }
 ],
 "metadata": {
  "kernelspec": {
   "display_name": "Python 3",
   "language": "python",
   "name": "python3"
  },
  "language_info": {
   "codemirror_mode": {
    "name": "ipython",
    "version": 3
   },
   "file_extension": ".py",
   "mimetype": "text/x-python",
   "name": "python",
   "nbconvert_exporter": "python",
   "pygments_lexer": "ipython3",
   "version": "3.7.6"
  }
 },
 "nbformat": 4,
 "nbformat_minor": 4
}
