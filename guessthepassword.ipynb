{
 "cells": [
  {
   "cell_type": "code",
   "execution_count": 5,
   "metadata": {},
   "outputs": [
    {
     "name": "stdin",
     "output_type": "stream",
     "text": [
      "what do you think the password is? kwiwi\n",
      "what do you think the password is? kwiwi\n",
      "what do you think the password is? kwiwi\n",
      "what do you think the password is? he110\n"
     ]
    },
    {
     "name": "stdout",
     "output_type": "stream",
     "text": [
      "you got it correct!!!!!!!!!!!!!!!!!!!!!!\n"
     ]
    }
   ],
   "source": [
    "counter=0\n",
    "password='he110'\n",
    "g=input('what do you think the password is?')\n",
    "while counter<3 and g!=password:\n",
    "    g=input('what do you think the password is?')\n",
    "    counter=counter+1\n",
    "if g==password:\n",
    "    print('you got it correct!!!!!!!!!!!!!!!!!!!!!!')\n",
    "else: \n",
    "    print ('YOU ARE BANNED FROM THIS COMPUTER FOR 72 HOURS!!!!!!')"
   ]
  },
  {
   "cell_type": "code",
   "execution_count": null,
   "metadata": {},
   "outputs": [],
   "source": []
  }
 ],
 "metadata": {
  "kernelspec": {
   "display_name": "Python 3",
   "language": "python",
   "name": "python3"
  },
  "language_info": {
   "codemirror_mode": {
    "name": "ipython",
    "version": 3
   },
   "file_extension": ".py",
   "mimetype": "text/x-python",
   "name": "python",
   "nbconvert_exporter": "python",
   "pygments_lexer": "ipython3",
   "version": "3.7.6"
  }
 },
 "nbformat": 4,
 "nbformat_minor": 4
}
