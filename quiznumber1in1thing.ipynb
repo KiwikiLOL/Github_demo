{
 "cells": [
  {
   "cell_type": "code",
   "execution_count": 1,
   "metadata": {},
   "outputs": [
    {
     "name": "stdout",
     "output_type": "stream",
     "text": [
      "Hello!\n"
     ]
    },
    {
     "name": "stdin",
     "output_type": "stream",
     "text": [
      "What is your name? Keira\n"
     ]
    },
    {
     "name": "stdout",
     "output_type": "stream",
     "text": [
      "Nice to meet you Keira !\n"
     ]
    },
    {
     "name": "stdin",
     "output_type": "stream",
     "text": [
      "What is your favorite sport? squash\n"
     ]
    },
    {
     "name": "stdout",
     "output_type": "stream",
     "text": [
      "Oooh, I like squash too!\n"
     ]
    },
    {
     "name": "stdin",
     "output_type": "stream",
     "text": [
      "What is your favorite snack? chips\n"
     ]
    },
    {
     "name": "stdout",
     "output_type": "stream",
     "text": [
      "I think chips are great too!\n"
     ]
    },
    {
     "name": "stdin",
     "output_type": "stream",
     "text": [
      "What is your favorite animal? dogs\n"
     ]
    },
    {
     "name": "stdout",
     "output_type": "stream",
     "text": [
      "Nice, I also think dogs are cool!\n"
     ]
    },
    {
     "name": "stdin",
     "output_type": "stream",
     "text": [
      "If you have a pet, can you tell me its name? Tucker\n"
     ]
    },
    {
     "name": "stdout",
     "output_type": "stream",
     "text": [
      "I think Tucker is a good name!!!\n"
     ]
    },
    {
     "name": "stdin",
     "output_type": "stream",
     "text": [
      "What is your favorite color? blue\n"
     ]
    },
    {
     "name": "stdout",
     "output_type": "stream",
     "text": [
      "blue is a pretty color!\n"
     ]
    },
    {
     "name": "stdin",
     "output_type": "stream",
     "text": [
      "What is your favorite ice cream flavor? vanilla\n"
     ]
    },
    {
     "name": "stdout",
     "output_type": "stream",
     "text": [
      "Cool, I like vanilla too!\n"
     ]
    },
    {
     "name": "stdin",
     "output_type": "stream",
     "text": [
      "Do you like fruits or vegetables better? fruits\n"
     ]
    },
    {
     "name": "stdout",
     "output_type": "stream",
     "text": [
      "I also like fruits , but I like the other the same!\n"
     ]
    },
    {
     "name": "stdin",
     "output_type": "stream",
     "text": [
      "What is your favorite fruit? kiwi\n"
     ]
    },
    {
     "name": "stdout",
     "output_type": "stream",
     "text": [
      "Mmmm, kiwi is a good fruit!\n",
      "Well, I had a nice time talking to you! See you again later!!!!!\n"
     ]
    }
   ],
   "source": [
    "print('Hello!')\n",
    "name=input('What is your name?')\n",
    "print('Nice to meet you',name,'!')\n",
    "sport=input('What is your favorite sport?')\n",
    "print('Oooh, I like',sport,'too!')\n",
    "Snack=input('What is your favorite snack?')\n",
    "print('I think',Snack,'are great too!')\n",
    "animal=input('What is your favorite animal?')\n",
    "print('Nice, I also think',animal,'are cool!')\n",
    "pet=input('If you have a pet, can you tell me its name?')\n",
    "print('I think',pet,'is a good name!!!')\n",
    "color=input('What is your favorite color?')\n",
    "print(color,'is a pretty color!')\n",
    "icecream=input('What is your favorite ice cream flavor?')\n",
    "print('Cool, I like',icecream,'too!')\n",
    "fruitorveggie=input('Do you like fruits or vegetables better?')\n",
    "print('I also like',fruitorveggie,', but I like the other the same!')\n",
    "fruit=input('What is your favorite fruit?')\n",
    "print('Mmmm,',fruit,'is a good fruit!')\n",
    "print('Well, I had a nice time talking to you! See you again later!!!!!')"
   ]
  },
  {
   "cell_type": "code",
   "execution_count": null,
   "metadata": {},
   "outputs": [],
   "source": []
  }
 ],
 "metadata": {
  "kernelspec": {
   "display_name": "Python 3",
   "language": "python",
   "name": "python3"
  },
  "language_info": {
   "codemirror_mode": {
    "name": "ipython",
    "version": 3
   },
   "file_extension": ".py",
   "mimetype": "text/x-python",
   "name": "python",
   "nbconvert_exporter": "python",
   "pygments_lexer": "ipython3",
   "version": "3.7.6"
  }
 },
 "nbformat": 4,
 "nbformat_minor": 4
}
